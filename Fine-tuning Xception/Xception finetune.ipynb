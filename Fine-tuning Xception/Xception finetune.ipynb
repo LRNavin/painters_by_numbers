{
 "cells": [
  {
   "cell_type": "code",
   "execution_count": 1,
   "metadata": {},
   "outputs": [
    {
     "name": "stderr",
     "output_type": "stream",
     "text": [
      "Using TensorFlow backend.\n"
     ]
    }
   ],
   "source": [
    "from __future__ import division, print_function\n",
    "from keras import backend as K\n",
    "from keras.layers import Input\n",
    "from keras.callbacks import ModelCheckpoint\n",
    "from keras.layers.core import Activation, Dense, Dropout, Lambda\n",
    "from keras.layers.merge import Concatenate\n",
    "from keras.models import Model, load_model\n",
    "from keras.utils import np_utils\n",
    "from sklearn.metrics import accuracy_score, confusion_matrix, classification_report\n",
    "import itertools\n",
    "import matplotlib.pyplot as plt\n",
    "import numpy as np\n",
    "import os\n",
    "import pandas as pd\n",
    "from keras.optimizers import Adam\n",
    "from keras.applications.vgg19 import VGG19\n",
    "from keras.applications.inception_v3 import InceptionV3\n",
    "from keras.applications.resnet50 import ResNet50\n",
    "\n",
    "from keras.preprocessing import image\n",
    "from keras.applications.vgg19 import preprocess_input\n",
    "from keras.models import Model\n",
    "import itertools\n",
    "import numpy as np\n",
    "import os\n",
    "import pandas as pd\n",
    "\n",
    "from PIL.Image import LANCZOS\n",
    "from PIL import Image\n",
    "from PIL import ImageFile\n",
    "Image.MAX_IMAGE_PIXELS = 1000000000                                                                                              \n",
    "ImageFile.LOAD_TRUNCATED_IMAGES = True"
   ]
  },
  {
   "cell_type": "code",
   "execution_count": 2,
   "metadata": {},
   "outputs": [],
   "source": [
    "import keras\n",
    "import numpy as np\n",
    "import random as randit\n",
    "import pandas as pd\n",
    "from keras import backend as K\n",
    "from keras.models import Sequential\n",
    "from keras.layers import Activation\n",
    "from keras.layers.core import Dense\n",
    "from keras.optimizers import Adam\n",
    "from keras.metrics import categorical_crossentropy\n",
    "import os\n",
    "from keras.preprocessing import image\n",
    "from keras.applications.vgg19 import preprocess_input\n",
    "from keras.models import Model\n",
    "from keras.applications.inception_v3 import InceptionV3\n",
    "from keras_applications import xception\n",
    "from keras.models import Model, load_model\n",
    "from keras.layers import Dense, GlobalAveragePooling2D\n",
    "from keras import backend as K\n",
    "from keras_preprocessing.image import ImageDataGenerator\n",
    "from keras import models\n",
    "from keras import layers\n",
    "from keras import optimizers\n",
    "import matplotlib.pyplot as plt"
   ]
  },
  {
   "cell_type": "code",
   "execution_count": 3,
   "metadata": {
    "scrolled": true
   },
   "outputs": [
    {
     "data": {
      "text/plain": [
       "['/job:localhost/replica:0/task:0/device:GPU:0']"
      ]
     },
     "execution_count": 3,
     "metadata": {},
     "output_type": "execute_result"
    }
   ],
   "source": [
    "from keras import backend as K\n",
    "K.tensorflow_backend._get_available_gpus()"
   ]
  },
  {
   "cell_type": "code",
   "execution_count": 4,
   "metadata": {},
   "outputs": [],
   "source": [
    "all_data = pd.read_csv('/home/josesoengas/painters/data/all_data_info_custom.csv')\n",
    "train_data = pd.read_csv('/home/josesoengas/painters/data/train_info.csv')\n",
    "test_data = pd.read_csv('/home/josesoengas/painters/data/test_info.csv')\n",
    "\n",
    "IMG_DIR = 'home/josesoengas/painters/data/'\n",
    "OUTPUT_DIR = 'home/josesoengas/painters/data/output'\n",
    "\n",
    "#ALL_IMG_LIST = all_data['new_filename'].tolist()\n",
    "#TRAIN_IMG_LIST = train_data['filename'].tolist()\n",
    "#TEST_IMG_LIST = test_data['new_filename'].tolist()\n",
    "\n",
    "os.makedirs(OUTPUT_DIR, exist_ok=True)\n",
    "\n",
    "#print(\"Amount of train images: \" + str(len(ALL_IMG_LIST)))\n",
    "#print(\"Amount of train images: \" + str(len(TRAIN_IMG_LIST)))\n",
    "#print(\"Amount of test images: \" + str(len(TEST_IMG_LIST)))"
   ]
  },
  {
   "cell_type": "code",
   "execution_count": 5,
   "metadata": {},
   "outputs": [],
   "source": [
    "train_df = pd.read_csv('/home/josesoengas/painters/data/train_info.csv')"
   ]
  },
  {
   "cell_type": "code",
   "execution_count": 6,
   "metadata": {},
   "outputs": [
    {
     "name": "stdout",
     "output_type": "stream",
     "text": [
      "Found 71490 validated image filenames belonging to 1584 classes.\n",
      "Found 7943 validated image filenames belonging to 1584 classes.\n"
     ]
    }
   ],
   "source": [
    "train_datagen= ImageDataGenerator(validation_split=0.1)\n",
    "\n",
    "train_batchsize = 128\n",
    "val_batchsize = 128\n",
    " \n",
    "train_generator = train_datagen.flow_from_dataframe(\n",
    "        dataframe = train_df,\n",
    "        directory = '/home/josesoengas/painters/data/train/',\n",
    "        x_col = 'filename',\n",
    "        y_col = 'artist',\n",
    "        target_size=(224, 224),\n",
    "        batch_size=train_batchsize,\n",
    "        class_mode='categorical',\n",
    "        subset = 'training')\n",
    " \n",
    "validation_generator = train_datagen.flow_from_dataframe(\n",
    "        dataframe = train_df,\n",
    "        directory = '/home/josesoengas/painters/data/train/',\n",
    "        x_col = 'filename',\n",
    "        y_col = 'artist',\n",
    "        target_size=(224, 224),\n",
    "        batch_size = val_batchsize,\n",
    "        class_mode='categorical',\n",
    "        subset = 'validation')"
   ]
  },
  {
   "cell_type": "code",
   "execution_count": 7,
   "metadata": {},
   "outputs": [
    {
     "name": "stdout",
     "output_type": "stream",
     "text": [
      "WARNING:tensorflow:From /home/josesoengas/anaconda3/lib/python3.7/site-packages/tensorflow/python/framework/op_def_library.py:263: colocate_with (from tensorflow.python.framework.ops) is deprecated and will be removed in a future version.\n",
      "Instructions for updating:\n",
      "Colocations handled automatically by placer.\n"
     ]
    }
   ],
   "source": [
    "# create the base pre-trained model\n",
    "base_model = keras.applications.xception.Xception(include_top=False, weights='imagenet', input_tensor=None, input_shape=None, pooling=None)"
   ]
  },
  {
   "cell_type": "code",
   "execution_count": 8,
   "metadata": {},
   "outputs": [],
   "source": [
    "# add a global spatial average pooling layer\n",
    "x = base_model.output\n",
    "x = GlobalAveragePooling2D()(x)\n",
    "x = Dense(1816, activation='relu')(x)\n",
    "predictions = Dense(1584, activation='softmax')(x)"
   ]
  },
  {
   "cell_type": "code",
   "execution_count": 9,
   "metadata": {},
   "outputs": [],
   "source": [
    "model = Model(inputs=base_model.input, outputs=predictions)"
   ]
  },
  {
   "cell_type": "code",
   "execution_count": 10,
   "metadata": {},
   "outputs": [],
   "source": [
    "for layer in base_model.layers:\n",
    "    layer.trainable = False"
   ]
  },
  {
   "cell_type": "code",
   "execution_count": 11,
   "metadata": {},
   "outputs": [],
   "source": [
    "# compile the model (should be done *after* setting layers to non-trainable)\n",
    "# inser metrics accuacy within compile function\n",
    "\n",
    "#adam = Adam(lr=.001)\n",
    "#model.compile(optimizer=adam, loss=\"categorical_crossentropy\", metrics=[\"accuracy\"])"
   ]
  },
  {
   "cell_type": "code",
   "execution_count": 12,
   "metadata": {},
   "outputs": [],
   "source": [
    "from keras.optimizers import SGD\n",
    "model.compile(optimizer=SGD(lr=0.0001, momentum=0.9), loss='categorical_crossentropy', metrics=[\"accuracy\"])"
   ]
  },
  {
   "cell_type": "code",
   "execution_count": 13,
   "metadata": {},
   "outputs": [
    {
     "name": "stdout",
     "output_type": "stream",
     "text": [
      "WARNING:tensorflow:From /home/josesoengas/anaconda3/lib/python3.7/site-packages/tensorflow/python/ops/math_ops.py:3066: to_int32 (from tensorflow.python.ops.math_ops) is deprecated and will be removed in a future version.\n",
      "Instructions for updating:\n",
      "Use tf.cast instead.\n",
      "Epoch 1/150\n",
      "559/558 [==============================] - 1421s 3s/step - loss: 7.3664 - acc: 7.1277e-04 - val_loss: 13.3230 - val_acc: 2.5179e-04\n",
      "Epoch 2/150\n",
      "559/558 [==============================] - 239s 427ms/step - loss: 7.3400 - acc: 0.0016 - val_loss: 13.2014 - val_acc: 5.0359e-04\n",
      "Epoch 3/150\n",
      "559/558 [==============================] - 239s 428ms/step - loss: 7.3139 - acc: 0.0048 - val_loss: 13.1064 - val_acc: 6.2949e-04\n",
      "Epoch 4/150\n",
      "559/558 [==============================] - 237s 425ms/step - loss: 7.2864 - acc: 0.0078 - val_loss: 13.0774 - val_acc: 0.0010\n",
      "Epoch 5/150\n",
      "559/558 [==============================] - 239s 427ms/step - loss: 7.2572 - acc: 0.0089 - val_loss: 13.1574 - val_acc: 0.0010\n",
      "Epoch 6/150\n",
      "559/558 [==============================] - 238s 427ms/step - loss: 7.2263 - acc: 0.0094 - val_loss: 13.3468 - val_acc: 8.8128e-04\n",
      "Epoch 7/150\n",
      "559/558 [==============================] - 240s 430ms/step - loss: 7.1930 - acc: 0.0095 - val_loss: 13.6011 - val_acc: 0.0013\n",
      "Epoch 8/150\n",
      "559/558 [==============================] - 239s 427ms/step - loss: 7.1578 - acc: 0.0099 - val_loss: 13.8663 - val_acc: 0.0014\n",
      "Epoch 9/150\n",
      "559/558 [==============================] - 238s 426ms/step - loss: 7.1207 - acc: 0.0100 - val_loss: 14.1134 - val_acc: 0.0014\n",
      "Epoch 10/150\n",
      "559/558 [==============================] - 239s 427ms/step - loss: 7.0833 - acc: 0.0102 - val_loss: 14.3208 - val_acc: 0.0018\n",
      "Epoch 11/150\n",
      "559/558 [==============================] - 239s 427ms/step - loss: 7.0474 - acc: 0.0110 - val_loss: 14.4731 - val_acc: 0.0019\n",
      "Epoch 12/150\n",
      "559/558 [==============================] - 237s 424ms/step - loss: 7.0124 - acc: 0.0116 - val_loss: 14.5791 - val_acc: 0.0021\n",
      "Epoch 13/150\n",
      "559/558 [==============================] - 238s 426ms/step - loss: 6.9814 - acc: 0.0131 - val_loss: 14.6385 - val_acc: 0.0021\n",
      "Epoch 14/150\n",
      "559/558 [==============================] - 238s 426ms/step - loss: 6.9542 - acc: 0.0146 - val_loss: 14.6690 - val_acc: 0.0023\n",
      "Epoch 15/150\n",
      "559/558 [==============================] - 237s 425ms/step - loss: 6.9306 - acc: 0.0168 - val_loss: 14.6821 - val_acc: 0.0024\n",
      "Epoch 16/150\n",
      "559/558 [==============================] - 238s 426ms/step - loss: 6.9095 - acc: 0.0191 - val_loss: 14.6799 - val_acc: 0.0029\n",
      "Epoch 17/150\n",
      "559/558 [==============================] - 238s 425ms/step - loss: 6.8909 - acc: 0.0214 - val_loss: 14.6656 - val_acc: 0.0031\n",
      "Epoch 18/150\n",
      "559/558 [==============================] - 239s 428ms/step - loss: 6.8742 - acc: 0.0234 - val_loss: 14.6464 - val_acc: 0.0033\n",
      "Epoch 19/150\n",
      "559/558 [==============================] - 238s 426ms/step - loss: 6.8592 - acc: 0.0257 - val_loss: 14.6269 - val_acc: 0.0035\n",
      "Epoch 20/150\n",
      "559/558 [==============================] - 239s 428ms/step - loss: 6.8449 - acc: 0.0280 - val_loss: 14.6086 - val_acc: 0.0037\n",
      "Epoch 21/150\n",
      "559/558 [==============================] - 237s 424ms/step - loss: 6.8316 - acc: 0.0300 - val_loss: 14.5907 - val_acc: 0.0037\n",
      "Epoch 22/150\n",
      "559/558 [==============================] - 238s 426ms/step - loss: 6.8199 - acc: 0.0324 - val_loss: 14.5719 - val_acc: 0.0038\n",
      "Epoch 23/150\n",
      "559/558 [==============================] - 238s 426ms/step - loss: 6.8093 - acc: 0.0339 - val_loss: 14.5539 - val_acc: 0.0037\n",
      "Epoch 24/150\n",
      "559/558 [==============================] - 238s 427ms/step - loss: 6.7986 - acc: 0.0359 - val_loss: 14.5348 - val_acc: 0.0037\n",
      "Epoch 25/150\n",
      "559/558 [==============================] - 238s 425ms/step - loss: 6.7880 - acc: 0.0375 - val_loss: 14.5221 - val_acc: 0.0037\n",
      "Epoch 26/150\n",
      "559/558 [==============================] - 238s 425ms/step - loss: 6.7789 - acc: 0.0384 - val_loss: 14.5078 - val_acc: 0.0037\n",
      "Epoch 27/150\n",
      "559/558 [==============================] - 237s 424ms/step - loss: 6.7690 - acc: 0.0401 - val_loss: 14.4999 - val_acc: 0.0035\n",
      "Epoch 28/150\n",
      "559/558 [==============================] - 239s 428ms/step - loss: 6.7602 - acc: 0.0427 - val_loss: 14.4941 - val_acc: 0.0040\n",
      "Epoch 29/150\n",
      "559/558 [==============================] - 237s 423ms/step - loss: 6.7508 - acc: 0.0436 - val_loss: 14.4846 - val_acc: 0.0042\n",
      "Epoch 30/150\n",
      "559/558 [==============================] - 237s 424ms/step - loss: 6.7425 - acc: 0.0453 - val_loss: 14.4791 - val_acc: 0.0044\n",
      "Epoch 31/150\n",
      "559/558 [==============================] - 238s 425ms/step - loss: 6.7352 - acc: 0.0464 - val_loss: 14.4747 - val_acc: 0.0044\n",
      "Epoch 32/150\n",
      "559/558 [==============================] - 238s 426ms/step - loss: 6.7262 - acc: 0.0481 - val_loss: 14.4725 - val_acc: 0.0044\n",
      "Epoch 33/150\n",
      "559/558 [==============================] - 238s 426ms/step - loss: 6.7187 - acc: 0.0499 - val_loss: 14.4688 - val_acc: 0.0045\n",
      "Epoch 34/150\n",
      "559/558 [==============================] - 237s 424ms/step - loss: 6.7109 - acc: 0.0507 - val_loss: 14.4640 - val_acc: 0.0045\n",
      "Epoch 35/150\n",
      "559/558 [==============================] - 238s 425ms/step - loss: 6.7023 - acc: 0.0521 - val_loss: 14.4681 - val_acc: 0.0044\n",
      "Epoch 36/150\n",
      "559/558 [==============================] - 238s 426ms/step - loss: 6.6940 - acc: 0.0542 - val_loss: 14.4698 - val_acc: 0.0047\n",
      "Epoch 37/150\n",
      "559/558 [==============================] - 238s 425ms/step - loss: 6.6874 - acc: 0.0551 - val_loss: 14.4660 - val_acc: 0.0047\n",
      "Epoch 38/150\n",
      "559/558 [==============================] - 237s 425ms/step - loss: 6.6792 - acc: 0.0558 - val_loss: 14.4708 - val_acc: 0.0047\n",
      "Epoch 39/150\n",
      "559/558 [==============================] - 238s 425ms/step - loss: 6.6717 - acc: 0.0570 - val_loss: 14.4768 - val_acc: 0.0048\n",
      "Epoch 40/150\n",
      "559/558 [==============================] - 238s 425ms/step - loss: 6.6633 - acc: 0.0579 - val_loss: 14.4822 - val_acc: 0.0047\n",
      "Epoch 41/150\n",
      "559/558 [==============================] - 238s 426ms/step - loss: 6.6566 - acc: 0.0587 - val_loss: 14.4895 - val_acc: 0.0048\n",
      "Epoch 42/150\n",
      "559/558 [==============================] - 238s 425ms/step - loss: 6.6490 - acc: 0.0594 - val_loss: 14.4925 - val_acc: 0.0049\n",
      "Epoch 43/150\n",
      "559/558 [==============================] - 237s 424ms/step - loss: 6.6409 - acc: 0.0623 - val_loss: 14.5017 - val_acc: 0.0053\n",
      "Epoch 44/150\n",
      "559/558 [==============================] - 238s 426ms/step - loss: 6.6334 - acc: 0.0620 - val_loss: 14.5146 - val_acc: 0.0052\n",
      "Epoch 45/150\n",
      "559/558 [==============================] - 237s 424ms/step - loss: 6.6259 - acc: 0.0624 - val_loss: 14.5298 - val_acc: 0.0052\n",
      "Epoch 46/150\n",
      "559/558 [==============================] - 237s 424ms/step - loss: 6.6177 - acc: 0.0637 - val_loss: 14.5309 - val_acc: 0.0052\n",
      "Epoch 47/150\n",
      "559/558 [==============================] - 237s 424ms/step - loss: 6.6093 - acc: 0.0639 - val_loss: 14.5420 - val_acc: 0.0052\n",
      "Epoch 48/150\n",
      "559/558 [==============================] - 238s 427ms/step - loss: 6.6034 - acc: 0.0656 - val_loss: 14.5520 - val_acc: 0.0050\n",
      "Epoch 49/150\n",
      "559/558 [==============================] - 238s 425ms/step - loss: 6.5958 - acc: 0.0657 - val_loss: 14.5647 - val_acc: 0.0052\n",
      "Epoch 50/150\n",
      "559/558 [==============================] - 237s 424ms/step - loss: 6.5873 - acc: 0.0665 - val_loss: 14.5769 - val_acc: 0.0053\n",
      "Epoch 51/150\n",
      "559/558 [==============================] - 237s 424ms/step - loss: 6.5788 - acc: 0.0674 - val_loss: 14.5887 - val_acc: 0.0055\n",
      "Epoch 52/150\n",
      "559/558 [==============================] - 237s 425ms/step - loss: 6.5707 - acc: 0.0688 - val_loss: 14.5983 - val_acc: 0.0058\n",
      "Epoch 53/150\n",
      "559/558 [==============================] - 237s 424ms/step - loss: 6.5627 - acc: 0.0686 - val_loss: 14.6104 - val_acc: 0.0058\n",
      "Epoch 54/150\n",
      "559/558 [==============================] - 237s 425ms/step - loss: 6.5550 - acc: 0.0686 - val_loss: 14.6215 - val_acc: 0.0059\n",
      "Epoch 55/150\n",
      "559/558 [==============================] - 237s 423ms/step - loss: 6.5475 - acc: 0.0696 - val_loss: 14.6336 - val_acc: 0.0058\n",
      "Epoch 56/150\n",
      "559/558 [==============================] - 237s 425ms/step - loss: 6.5385 - acc: 0.0714 - val_loss: 14.6480 - val_acc: 0.0058\n",
      "Epoch 57/150\n",
      "559/558 [==============================] - 237s 423ms/step - loss: 6.5310 - acc: 0.0719 - val_loss: 14.6621 - val_acc: 0.0060\n",
      "Epoch 58/150\n",
      "559/558 [==============================] - 237s 424ms/step - loss: 6.5224 - acc: 0.0726 - val_loss: 14.6783 - val_acc: 0.0063\n",
      "Epoch 59/150\n",
      "559/558 [==============================] - 236s 423ms/step - loss: 6.5145 - acc: 0.0730 - val_loss: 14.6896 - val_acc: 0.0060\n",
      "Epoch 60/150\n",
      "559/558 [==============================] - 238s 425ms/step - loss: 6.5060 - acc: 0.0732 - val_loss: 14.7045 - val_acc: 0.0062\n",
      "Epoch 61/150\n",
      "559/558 [==============================] - 238s 425ms/step - loss: 6.4981 - acc: 0.0739 - val_loss: 14.7207 - val_acc: 0.0065\n",
      "Epoch 62/150\n",
      "559/558 [==============================] - 238s 426ms/step - loss: 6.4890 - acc: 0.0749 - val_loss: 14.7311 - val_acc: 0.0064\n",
      "Epoch 63/150\n",
      "559/558 [==============================] - 237s 424ms/step - loss: 6.4805 - acc: 0.0759 - val_loss: 14.7449 - val_acc: 0.0064\n",
      "Epoch 64/150\n",
      "559/558 [==============================] - 236s 423ms/step - loss: 6.4718 - acc: 0.0766 - val_loss: 14.7579 - val_acc: 0.0063\n",
      "Epoch 65/150\n",
      "559/558 [==============================] - 236s 423ms/step - loss: 6.4638 - acc: 0.0772 - val_loss: 14.7715 - val_acc: 0.0063\n",
      "Epoch 66/150\n",
      "559/558 [==============================] - 237s 424ms/step - loss: 6.4557 - acc: 0.0776 - val_loss: 14.7890 - val_acc: 0.0065\n",
      "Epoch 67/150\n",
      "559/558 [==============================] - 236s 423ms/step - loss: 6.4469 - acc: 0.0787 - val_loss: 14.8050 - val_acc: 0.0064\n",
      "Epoch 68/150\n",
      "559/558 [==============================] - 237s 424ms/step - loss: 6.4383 - acc: 0.0789 - val_loss: 14.8172 - val_acc: 0.0063\n",
      "Epoch 69/150\n",
      "559/558 [==============================] - 237s 424ms/step - loss: 6.4300 - acc: 0.0803 - val_loss: 14.8312 - val_acc: 0.0063\n",
      "Epoch 70/150\n",
      "559/558 [==============================] - 236s 422ms/step - loss: 6.4220 - acc: 0.0801 - val_loss: 14.8453 - val_acc: 0.0064\n",
      "Epoch 71/150\n",
      "559/558 [==============================] - 237s 424ms/step - loss: 6.4123 - acc: 0.0811 - val_loss: 14.8596 - val_acc: 0.0062\n",
      "Epoch 72/150\n",
      "559/558 [==============================] - 237s 424ms/step - loss: 6.4037 - acc: 0.0815 - val_loss: 14.8680 - val_acc: 0.0063\n",
      "Epoch 73/150\n",
      "559/558 [==============================] - 237s 425ms/step - loss: 6.3942 - acc: 0.0829 - val_loss: 14.8856 - val_acc: 0.0063\n",
      "Epoch 74/150\n",
      "559/558 [==============================] - 238s 426ms/step - loss: 6.3864 - acc: 0.0832 - val_loss: 14.8999 - val_acc: 0.0063\n",
      "Epoch 75/150\n",
      "559/558 [==============================] - 238s 427ms/step - loss: 6.3768 - acc: 0.0834 - val_loss: 14.9161 - val_acc: 0.0063\n",
      "Epoch 76/150\n",
      "559/558 [==============================] - 239s 428ms/step - loss: 6.3684 - acc: 0.0849 - val_loss: 14.9285 - val_acc: 0.0064\n",
      "Epoch 77/150\n",
      "559/558 [==============================] - 239s 427ms/step - loss: 6.3603 - acc: 0.0855 - val_loss: 14.9359 - val_acc: 0.0064\n",
      "Epoch 78/150\n",
      "559/558 [==============================] - 240s 429ms/step - loss: 6.3524 - acc: 0.0857 - val_loss: 14.9463 - val_acc: 0.0063\n",
      "Epoch 79/150\n",
      "559/558 [==============================] - 241s 430ms/step - loss: 6.3434 - acc: 0.0861 - val_loss: 14.9622 - val_acc: 0.0063\n",
      "Epoch 80/150\n",
      "559/558 [==============================] - 241s 431ms/step - loss: 6.3347 - acc: 0.0868 - val_loss: 14.9731 - val_acc: 0.0060\n",
      "Epoch 81/150\n",
      "559/558 [==============================] - 240s 430ms/step - loss: 6.3246 - acc: 0.0882 - val_loss: 14.9867 - val_acc: 0.0060\n",
      "Epoch 82/150\n",
      "559/558 [==============================] - 239s 428ms/step - loss: 6.3161 - acc: 0.0888 - val_loss: 14.9966 - val_acc: 0.0055\n",
      "Epoch 83/150\n",
      "559/558 [==============================] - 239s 427ms/step - loss: 6.3082 - acc: 0.0885 - val_loss: 15.0084 - val_acc: 0.0055\n",
      "Epoch 84/150\n",
      "559/558 [==============================] - 238s 425ms/step - loss: 6.2997 - acc: 0.0894 - val_loss: 15.0215 - val_acc: 0.0055\n",
      "Epoch 85/150\n",
      "559/558 [==============================] - 238s 427ms/step - loss: 6.2907 - acc: 0.0904 - val_loss: 15.0335 - val_acc: 0.0054\n",
      "Epoch 86/150\n",
      "559/558 [==============================] - 239s 427ms/step - loss: 6.2819 - acc: 0.0905 - val_loss: 15.0424 - val_acc: 0.0057\n",
      "Epoch 87/150\n",
      "559/558 [==============================] - 239s 427ms/step - loss: 6.2737 - acc: 0.0917 - val_loss: 15.0565 - val_acc: 0.0057\n",
      "Epoch 88/150\n",
      "559/558 [==============================] - 238s 425ms/step - loss: 6.2649 - acc: 0.0922 - val_loss: 15.0661 - val_acc: 0.0057\n",
      "Epoch 89/150\n",
      "559/558 [==============================] - 239s 427ms/step - loss: 6.2556 - acc: 0.0918 - val_loss: 15.0738 - val_acc: 0.0057\n",
      "Epoch 90/150\n",
      "559/558 [==============================] - 238s 426ms/step - loss: 6.2470 - acc: 0.0929 - val_loss: 15.0855 - val_acc: 0.0057\n",
      "Epoch 91/150\n",
      "559/558 [==============================] - 238s 426ms/step - loss: 6.2396 - acc: 0.0940 - val_loss: 15.0982 - val_acc: 0.0055\n",
      "Epoch 92/150\n",
      "559/558 [==============================] - 239s 428ms/step - loss: 6.2295 - acc: 0.0940 - val_loss: 15.1133 - val_acc: 0.0057\n",
      "Epoch 93/150\n",
      "559/558 [==============================] - 237s 424ms/step - loss: 6.2220 - acc: 0.0948 - val_loss: 15.1200 - val_acc: 0.0058\n",
      "Epoch 94/150\n",
      "559/558 [==============================] - 237s 425ms/step - loss: 6.2144 - acc: 0.0960 - val_loss: 15.1295 - val_acc: 0.0055\n",
      "Epoch 95/150\n",
      "559/558 [==============================] - 237s 425ms/step - loss: 6.2039 - acc: 0.0957 - val_loss: 15.1398 - val_acc: 0.0055\n",
      "Epoch 96/150\n",
      "559/558 [==============================] - 239s 428ms/step - loss: 6.1956 - acc: 0.0971 - val_loss: 15.1522 - val_acc: 0.0053\n",
      "Epoch 97/150\n",
      "559/558 [==============================] - 237s 424ms/step - loss: 6.1880 - acc: 0.0970 - val_loss: 15.1610 - val_acc: 0.0055\n",
      "Epoch 98/150\n",
      "559/558 [==============================] - 237s 424ms/step - loss: 6.1786 - acc: 0.0981 - val_loss: 15.1707 - val_acc: 0.0054\n",
      "Epoch 99/150\n",
      "559/558 [==============================] - 237s 424ms/step - loss: 6.1701 - acc: 0.0985 - val_loss: 15.1793 - val_acc: 0.0054\n",
      "Epoch 100/150\n",
      "559/558 [==============================] - 238s 425ms/step - loss: 6.1615 - acc: 0.1000 - val_loss: 15.1995 - val_acc: 0.0052\n",
      "Epoch 101/150\n",
      "559/558 [==============================] - 238s 426ms/step - loss: 6.1523 - acc: 0.0995 - val_loss: 15.2033 - val_acc: 0.0053\n",
      "Epoch 102/150\n",
      "559/558 [==============================] - 237s 424ms/step - loss: 6.1448 - acc: 0.1005 - val_loss: 15.2119 - val_acc: 0.0053\n",
      "Epoch 103/150\n",
      "559/558 [==============================] - 238s 426ms/step - loss: 6.1366 - acc: 0.1000 - val_loss: 15.2205 - val_acc: 0.0052\n",
      "Epoch 104/150\n",
      "559/558 [==============================] - 238s 426ms/step - loss: 6.1277 - acc: 0.1014 - val_loss: 15.2306 - val_acc: 0.0048\n",
      "Epoch 105/150\n",
      "559/558 [==============================] - 238s 425ms/step - loss: 6.1197 - acc: 0.1024 - val_loss: 15.2398 - val_acc: 0.0048\n",
      "Epoch 106/150\n",
      "559/558 [==============================] - 238s 426ms/step - loss: 6.1112 - acc: 0.1023 - val_loss: 15.2504 - val_acc: 0.0045\n",
      "Epoch 107/150\n",
      "559/558 [==============================] - 237s 424ms/step - loss: 6.1019 - acc: 0.1033 - val_loss: 15.2616 - val_acc: 0.0045\n",
      "Epoch 108/150\n",
      "559/558 [==============================] - 238s 425ms/step - loss: 6.0950 - acc: 0.1029 - val_loss: 15.2695 - val_acc: 0.0047\n",
      "Epoch 109/150\n",
      "559/558 [==============================] - 237s 425ms/step - loss: 6.0858 - acc: 0.1049 - val_loss: 15.2807 - val_acc: 0.0045\n",
      "Epoch 110/150\n",
      "559/558 [==============================] - 237s 425ms/step - loss: 6.0779 - acc: 0.1050 - val_loss: 15.2868 - val_acc: 0.0045\n",
      "Epoch 111/150\n",
      "559/558 [==============================] - 239s 427ms/step - loss: 6.0703 - acc: 0.1049 - val_loss: 15.2984 - val_acc: 0.0045\n",
      "Epoch 112/150\n",
      "559/558 [==============================] - 238s 426ms/step - loss: 6.0615 - acc: 0.1051 - val_loss: 15.3011 - val_acc: 0.0047\n",
      "Epoch 113/150\n",
      "559/558 [==============================] - 237s 424ms/step - loss: 6.0539 - acc: 0.1060 - val_loss: 15.3134 - val_acc: 0.0047\n",
      "Epoch 114/150\n",
      "559/558 [==============================] - 238s 427ms/step - loss: 6.0455 - acc: 0.1072 - val_loss: 15.3241 - val_acc: 0.0044\n",
      "Epoch 115/150\n",
      "559/558 [==============================] - 237s 425ms/step - loss: 6.0371 - acc: 0.1076 - val_loss: 15.3303 - val_acc: 0.0048\n",
      "Epoch 116/150\n",
      "559/558 [==============================] - 238s 425ms/step - loss: 6.0294 - acc: 0.1074 - val_loss: 15.3417 - val_acc: 0.0045\n",
      "Epoch 117/150\n",
      "559/558 [==============================] - 238s 426ms/step - loss: 6.0215 - acc: 0.1077 - val_loss: 15.3479 - val_acc: 0.0045\n",
      "Epoch 118/150\n",
      "559/558 [==============================] - 238s 425ms/step - loss: 6.0126 - acc: 0.1090 - val_loss: 15.3613 - val_acc: 0.0042\n",
      "Epoch 119/150\n",
      "559/558 [==============================] - 238s 425ms/step - loss: 6.0051 - acc: 0.1092 - val_loss: 15.3683 - val_acc: 0.0042\n",
      "Epoch 120/150\n",
      "559/558 [==============================] - 238s 425ms/step - loss: 5.9967 - acc: 0.1097 - val_loss: 15.3730 - val_acc: 0.0043\n",
      "Epoch 121/150\n",
      "559/558 [==============================] - 238s 425ms/step - loss: 5.9890 - acc: 0.1099 - val_loss: 15.3791 - val_acc: 0.0042\n",
      "Epoch 122/150\n",
      "559/558 [==============================] - 239s 427ms/step - loss: 5.9809 - acc: 0.1103 - val_loss: 15.3885 - val_acc: 0.0042\n",
      "Epoch 123/150\n",
      "559/558 [==============================] - 237s 424ms/step - loss: 5.9729 - acc: 0.1108 - val_loss: 15.3950 - val_acc: 0.0040\n",
      "Epoch 124/150\n",
      "559/558 [==============================] - 237s 423ms/step - loss: 5.9651 - acc: 0.1120 - val_loss: 15.4000 - val_acc: 0.0040\n",
      "Epoch 125/150\n",
      "559/558 [==============================] - 238s 425ms/step - loss: 5.9575 - acc: 0.1118 - val_loss: 15.4151 - val_acc: 0.0040\n",
      "Epoch 126/150\n",
      "559/558 [==============================] - 238s 426ms/step - loss: 5.9502 - acc: 0.1122 - val_loss: 15.4261 - val_acc: 0.0039\n",
      "Epoch 127/150\n",
      "559/558 [==============================] - 238s 426ms/step - loss: 5.9413 - acc: 0.1135 - val_loss: 15.4259 - val_acc: 0.0040\n",
      "Epoch 128/150\n",
      "559/558 [==============================] - 237s 424ms/step - loss: 5.9334 - acc: 0.1133 - val_loss: 15.4353 - val_acc: 0.0039\n",
      "Epoch 129/150\n",
      "559/558 [==============================] - 237s 425ms/step - loss: 5.9270 - acc: 0.1138 - val_loss: 15.4420 - val_acc: 0.0038\n",
      "Epoch 130/150\n",
      "559/558 [==============================] - 238s 425ms/step - loss: 5.9181 - acc: 0.1145 - val_loss: 15.4452 - val_acc: 0.0037\n",
      "Epoch 131/150\n",
      "559/558 [==============================] - 237s 424ms/step - loss: 5.9103 - acc: 0.1152 - val_loss: 15.4524 - val_acc: 0.0038\n",
      "Epoch 132/150\n",
      "559/558 [==============================] - 237s 425ms/step - loss: 5.9038 - acc: 0.1158 - val_loss: 15.4598 - val_acc: 0.0038\n",
      "Epoch 133/150\n",
      "559/558 [==============================] - 238s 426ms/step - loss: 5.8948 - acc: 0.1167 - val_loss: 15.4692 - val_acc: 0.0038\n",
      "Epoch 134/150\n",
      "559/558 [==============================] - 239s 427ms/step - loss: 5.8879 - acc: 0.1168 - val_loss: 15.4770 - val_acc: 0.0038\n",
      "Epoch 135/150\n",
      "559/558 [==============================] - 238s 425ms/step - loss: 5.8791 - acc: 0.1168 - val_loss: 15.4835 - val_acc: 0.0038\n",
      "Epoch 136/150\n",
      "559/558 [==============================] - 237s 424ms/step - loss: 5.8731 - acc: 0.1179 - val_loss: 15.4927 - val_acc: 0.0037\n",
      "Epoch 137/150\n",
      "559/558 [==============================] - 237s 424ms/step - loss: 5.8648 - acc: 0.1185 - val_loss: 15.4959 - val_acc: 0.0037\n",
      "Epoch 138/150\n",
      "559/558 [==============================] - 239s 428ms/step - loss: 5.8563 - acc: 0.1191 - val_loss: 15.5023 - val_acc: 0.0037\n",
      "Epoch 139/150\n",
      "559/558 [==============================] - 238s 425ms/step - loss: 5.8489 - acc: 0.1192 - val_loss: 15.5135 - val_acc: 0.0037\n",
      "Epoch 140/150\n",
      "559/558 [==============================] - 238s 426ms/step - loss: 5.8428 - acc: 0.1199 - val_loss: 15.5166 - val_acc: 0.0037\n",
      "Epoch 141/150\n",
      "559/558 [==============================] - 238s 427ms/step - loss: 5.8340 - acc: 0.1205 - val_loss: 15.5215 - val_acc: 0.0034\n",
      "Epoch 142/150\n",
      "559/558 [==============================] - 239s 427ms/step - loss: 5.8270 - acc: 0.1208 - val_loss: 15.5292 - val_acc: 0.0033\n",
      "Epoch 143/150\n",
      "559/558 [==============================] - 238s 426ms/step - loss: 5.8199 - acc: 0.1207 - val_loss: 15.5322 - val_acc: 0.0034\n",
      "Epoch 144/150\n",
      "559/558 [==============================] - 238s 427ms/step - loss: 5.8135 - acc: 0.1211 - val_loss: 15.5402 - val_acc: 0.0034\n",
      "Epoch 145/150\n",
      "559/558 [==============================] - 238s 426ms/step - loss: 5.8041 - acc: 0.1220 - val_loss: 15.5449 - val_acc: 0.0034\n",
      "Epoch 146/150\n",
      "559/558 [==============================] - 238s 426ms/step - loss: 5.7978 - acc: 0.1225 - val_loss: 15.5495 - val_acc: 0.0033\n",
      "Epoch 147/150\n",
      "559/558 [==============================] - 238s 425ms/step - loss: 5.7897 - acc: 0.1231 - val_loss: 15.5608 - val_acc: 0.0031\n",
      "Epoch 148/150\n",
      "559/558 [==============================] - 237s 423ms/step - loss: 5.7829 - acc: 0.1235 - val_loss: 15.5639 - val_acc: 0.0030\n",
      "Epoch 149/150\n",
      "559/558 [==============================] - 237s 424ms/step - loss: 5.7759 - acc: 0.1246 - val_loss: 15.5670 - val_acc: 0.0031\n",
      "Epoch 150/150\n",
      "559/558 [==============================] - 237s 424ms/step - loss: 5.7684 - acc: 0.1248 - val_loss: 15.5762 - val_acc: 0.0030\n"
     ]
    }
   ],
   "source": [
    "# train the model on the new data for a few epochs\n",
    "\n",
    "history = model.fit_generator(\n",
    "      train_generator,\n",
    "      steps_per_epoch=train_generator.samples/train_generator.batch_size ,\n",
    "      epochs=150,\n",
    "      validation_data=validation_generator,\n",
    "      validation_steps=validation_generator.samples/validation_generator.batch_size,\n",
    "      verbose=1)\n",
    " \n",
    "# Save the model\n",
    "model.save('xception_last_layer_two_epoch.h5')"
   ]
  },
  {
   "cell_type": "code",
   "execution_count": 14,
   "metadata": {},
   "outputs": [
    {
     "data": {
      "image/png": "[encoded data removed]",
      "text/plain": [
       "<Figure size 432x288 with 1 Axes>"
      ]
     },
     "metadata": {
      "needs_background": "light"
     },
     "output_type": "display_data"
    },
    {
     "data": {
      "image/png": "[encoded data removed]",
      "text/plain": [
       "<Figure size 432x288 with 1 Axes>"
      ]
     },
     "metadata": {
      "needs_background": "light"
     },
     "output_type": "display_data"
    }
   ],
   "source": [
    "acc = history.history['acc']\n",
    "val_acc = history.history['val_acc']\n",
    "loss = history.history['loss']\n",
    "val_loss = history.history['val_loss']\n",
    " \n",
    "epochs = range(len(acc))\n",
    " \n",
    "plt.plot(epochs, acc, 'b', label='Training acc')\n",
    "plt.plot(epochs, val_acc, 'r', label='Validation acc')\n",
    "plt.title('Training and validation accuracy')\n",
    "plt.legend()\n",
    " \n",
    "plt.figure()\n",
    " \n",
    "plt.plot(epochs, loss, 'b', label='Training loss')\n",
    "plt.plot(epochs, val_loss, 'r', label='Validation loss')\n",
    "plt.title('Training and validation loss')\n",
    "plt.legend()\n",
    " \n",
    "plt.show()"
   ]
  },
  {
   "cell_type": "code",
   "execution_count": 12,
   "metadata": {},
   "outputs": [],
   "source": [
    "model.load_weights('/home/josesoengas/xception_last_layer_0.0001_0.1Val.h5')"
   ]
  },
  {
   "cell_type": "code",
   "execution_count": 13,
   "metadata": {},
   "outputs": [],
   "source": [
    "for layer in model.layers[:126]:\n",
    "   layer.trainable = False\n",
    "for layer in model.layers[126:]:\n",
    "   layer.trainable = True"
   ]
  },
  {
   "cell_type": "code",
   "execution_count": 14,
   "metadata": {},
   "outputs": [],
   "source": [
    "# compile the model (should be done *after* setting layers to non-trainable)\n",
    "# inser metrics accuacy within compile function\n",
    "\n",
    "adam = Adam(lr=.0001)\n",
    "model.compile(optimizer=adam, loss=\"categorical_crossentropy\", metrics=[\"accuracy\"])"
   ]
  },
  {
   "cell_type": "code",
   "execution_count": 15,
   "metadata": {},
   "outputs": [
    {
     "name": "stdout",
     "output_type": "stream",
     "text": [
      "WARNING:tensorflow:From /home/josesoengas/anaconda3/lib/python3.7/site-packages/tensorflow/python/ops/math_ops.py:3066: to_int32 (from tensorflow.python.ops.math_ops) is deprecated and will be removed in a future version.\n",
      "Instructions for updating:\n",
      "Use tf.cast instead.\n",
      "Epoch 1/6\n",
      "2235/2234 [==============================] - 253s 113ms/step - loss: 2.0261 - acc: 0.5608 - val_loss: 16.0677 - val_acc: 0.0029\n",
      "Epoch 2/6\n",
      "2235/2234 [==============================] - 245s 110ms/step - loss: 1.4219 - acc: 0.6888 - val_loss: 16.0654 - val_acc: 0.0031\n",
      "Epoch 3/6\n",
      "2235/2234 [==============================] - 245s 110ms/step - loss: 1.0538 - acc: 0.7742 - val_loss: 16.0679 - val_acc: 0.0029\n",
      "Epoch 4/6\n",
      "2235/2234 [==============================] - 244s 109ms/step - loss: 0.7835 - acc: 0.8397 - val_loss: 16.0665 - val_acc: 0.0031\n",
      "Epoch 5/6\n",
      "2235/2234 [==============================] - 244s 109ms/step - loss: 0.5631 - acc: 0.8945 - val_loss: 16.0705 - val_acc: 0.0026\n",
      "Epoch 6/6\n",
      "2235/2234 [==============================] - 244s 109ms/step - loss: 0.4021 - acc: 0.9295 - val_loss: 16.0599 - val_acc: 0.0029\n"
     ]
    }
   ],
   "source": [
    "# train the model on the new data for a few epochs\n",
    "history = model.fit_generator(\n",
    "      train_generator,\n",
    "      steps_per_epoch=train_generator.samples/train_generator.batch_size ,\n",
    "      epochs=6,\n",
    "      validation_data=validation_generator,\n",
    "      validation_steps=validation_generator.samples/validation_generator.batch_size,\n",
    "      verbose=1)\n",
    " \n",
    "# Save the model\n",
    "model.save('xception_last_block_0.0001_0.1Val.h5')"
   ]
  },
  {
   "cell_type": "code",
   "execution_count": 16,
   "metadata": {},
   "outputs": [
    {
     "data": {
      "image/png": "[encoded data removed]",
      "text/plain": [
       "<Figure size 432x288 with 1 Axes>"
      ]
     },
     "metadata": {
      "needs_background": "light"
     },
     "output_type": "display_data"
    },
    {
     "data": {
      "image/png": "[encoded data removed]",
      "text/plain": [
       "<Figure size 432x288 with 1 Axes>"
      ]
     },
     "metadata": {
      "needs_background": "light"
     },
     "output_type": "display_data"
    }
   ],
   "source": [
    "acc = history.history['acc']\n",
    "val_acc = history.history['val_acc']\n",
    "loss = history.history['loss']\n",
    "val_loss = history.history['val_loss']\n",
    " \n",
    "epochs = range(len(acc))\n",
    " \n",
    "plt.plot(epochs, acc, 'b', label='Training acc')\n",
    "plt.plot(epochs, val_acc, 'r', label='Validation acc')\n",
    "plt.title('Training and validation accuracy')\n",
    "plt.legend()\n",
    " \n",
    "plt.figure()\n",
    " \n",
    "plt.plot(epochs, loss, 'b', label='Training loss')\n",
    "plt.plot(epochs, val_loss, 'r', label='Validation loss')\n",
    "plt.title('Training and validation loss')\n",
    "plt.legend()\n",
    " \n",
    "plt.show()"
   ]
  },
  {
   "cell_type": "code",
   "execution_count": null,
   "metadata": {},
   "outputs": [],
   "source": []
  }
 ],
 "metadata": {
  "kernelspec": {
   "display_name": "Python 3",
   "language": "python",
   "name": "python3"
  },
  "language_info": {
   "codemirror_mode": {
    "name": "ipython",
    "version": 3
   },
   "file_extension": ".py",
   "mimetype": "text/x-python",
   "name": "python",
   "nbconvert_exporter": "python",
   "pygments_lexer": "ipython3",
   "version": "3.7.3"
  }
 },
 "nbformat": 4,
 "nbformat_minor": 2
}
