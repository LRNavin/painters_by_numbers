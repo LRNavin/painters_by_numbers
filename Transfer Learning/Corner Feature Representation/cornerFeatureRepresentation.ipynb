{
 "cells": [
  {
   "cell_type": "markdown",
   "metadata": {},
   "source": [
    "# Creation of advanced feature representation"
   ]
  },
  {
   "cell_type": "code",
   "execution_count": 11,
   "metadata": {},
   "outputs": [],
   "source": [
    "import sys\n",
    "import re\n",
    "import os\n",
    "import numpy as np\n",
    "import pandas as pd\n",
    "from keras.preprocessing import image\n",
    "from keras.applications.xception import Xception\n",
    "from keras.applications.xception import preprocess_input\n",
    "from keras.models import Model\n",
    "from tqdm import tqdm\n",
    "import pyvips"
   ]
  },
  {
   "cell_type": "code",
   "execution_count": 2,
   "metadata": {},
   "outputs": [],
   "source": [
    "all_data = pd.read_csv('/home/nelssalminen/painters/data/all_data_info_custom.csv')\n",
    "train_data = pd.read_csv('/home/nelssalminen/painters/data/train_info.csv')\n",
    "test_data = pd.read_csv('/home/nelssalminen/painters/data/test_info.csv')\n",
    "IMG_DIR = '/home/nelssalminen/painters/fullres_data/'\n",
    "OUTPUT_DIR ='/home/nelssalminen/painters/fullres_data/output/'\n",
    "\n",
    "IMG_LIST = all_data[\"new_filename\"].tolist()\n",
    "\n",
    "TARGET_SIZE = 112\n",
    "CORNER_ZOOM = 1.75\n",
    "\n",
    "error_out = open(OUTPUT_DIR + 'error_images_4.tsv', \"w\")"
   ]
  },
  {
   "cell_type": "code",
   "execution_count": null,
   "metadata": {},
   "outputs": [],
   "source": [
    "model = Xception(weights='imagenet',include_top=False,pooling='avg')"
   ]
  },
  {
   "cell_type": "code",
   "execution_count": 4,
   "metadata": {},
   "outputs": [],
   "source": [
    "import pickle\n",
    "with open ('outfile', 'rb') as fp:\n",
    "    error_anyway = pickle.load(fp)"
   ]
  },
  {
   "cell_type": "code",
   "execution_count": 5,
   "metadata": {},
   "outputs": [],
   "source": [
    "def gen_features(filename, image_segments, fvec):\n",
    "    for s, segment in image_segments.items():\n",
    "        x = np.expand_dims(segment, axis=0)\n",
    "        x = preprocess_input(x)\n",
    "        try:\n",
    "            features = model.predict(x)[0]\n",
    "        except ValueError:\n",
    "            error_out.write(filename + '\\n')\n",
    "            features = np.array([-1])\n",
    "            break\n",
    "        #image_vector = \",\".join([\"{:.5e}\".format(v) for v in features.tolist()])\n",
    "        image_vector = \",\".join([\"{:.5e}\".format(v) for v in features.tolist()])\n",
    "        filepath, ext = filename.strip().split(\".\")\n",
    "        fvec.write(\"{:s}\\t{:s}\\n\".format(filepath + '_' + s + '.' + ext, image_vector))"
   ]
  },
  {
   "cell_type": "code",
   "execution_count": 6,
   "metadata": {},
   "outputs": [],
   "source": [
    "def create_corner_crops(f, w=TARGET_SIZE, z=CORNER_ZOOM):\n",
    "    try:\n",
    "        i = pyvips.Image.new_from_file(f)\n",
    "        a_roi = i.crop(0,0,w,w)\n",
    "        a_mem = a_roi.write_to_memory()\n",
    "        a = np.ndarray(buffer=a_mem, dtype=np.uint8,\n",
    "                       shape=[a_roi.height, a_roi.width, a_roi.bands])\n",
    "        b_roi = i.crop(i.width-w,0,w,w)\n",
    "        b_mem = b_roi.write_to_memory()\n",
    "        b = np.ndarray(buffer=b_mem, dtype=np.uint8,\n",
    "                       shape=[b_roi.height, b_roi.width, b_roi.bands])\n",
    "        c_roi = i.crop(0,i.height-w,w,w)\n",
    "        c_mem = c_roi.write_to_memory()\n",
    "        c = np.ndarray(buffer=c_mem, dtype=np.uint8,\n",
    "                       shape=[c_roi.height, c_roi.width, c_roi.bands])\n",
    "        d_roi = i.crop(i.width-w,i.height-w,w,w)\n",
    "        d_mem = d_roi.write_to_memory()\n",
    "        d = np.ndarray(buffer=d_mem, dtype=np.uint8,\n",
    "                       shape=[d_roi.height, d_roi.width, d_roi.bands])\n",
    "    except pyvips.error.Error:\n",
    "        print(f + 'raised pyvips error')\n",
    "        return np.array([]), np.array([]), np.array([]), np.array([])\n",
    "    return a, b, c, d"
   ]
  },
  {
   "cell_type": "code",
   "execution_count": 8,
   "metadata": {},
   "outputs": [],
   "source": [
    "def split(a, n):\n",
    "    k, m = divmod(len(a), n)\n",
    "    return (a[i * k + min(i, m):(i + 1) * k + min(i + 1, m)] for i in range(n))\n",
    "\n",
    "IMG_LIST_SPLIT = list(split(IMG_LIST, 2))"
   ]
  },
  {
   "cell_type": "code",
   "execution_count": null,
   "metadata": {},
   "outputs": [],
   "source": [
    "fvec = open(OUTPUT_DIR + 'xception-segment-vectors-gpu-4.tsv', \"w\")\n",
    "for f in tqdm(error_anyway):\n",
    "    a, b, c, d = create_corner_crops(IMG_DIR + f)\n",
    "    if a.size != 0:\n",
    "        gen_features(f, {'a': a, 'b': b, 'c': c, 'd': d}, fvec)\n",
    "    else:\n",
    "        error_out.write(filename + '\\n')"
   ]
  }
 ],
 "metadata": {
  "kernelspec": {
   "display_name": "Python 3",
   "language": "python",
   "name": "python3"
  },
  "language_info": {
   "codemirror_mode": {
    "name": "ipython",
    "version": 3
   },
   "file_extension": ".py",
   "mimetype": "text/x-python",
   "name": "python",
   "nbconvert_exporter": "python",
   "pygments_lexer": "ipython3",
   "version": "3.6.8"
  }
 },
 "nbformat": 4,
 "nbformat_minor": 2
}
